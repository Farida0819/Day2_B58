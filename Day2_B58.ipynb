{
 "cells": [
  {
   "cell_type": "code",
   "execution_count": null,
   "id": "7356e04b-e3cf-4de5-a352-4c0a43dfcaf3",
   "metadata": {},
   "outputs": [],
   "source": [
    "Getting started in python fundamentals"
   ]
  },
  {
   "cell_type": "code",
   "execution_count": null,
   "id": "cfbe82ff-dded-47de-8292-047e7393491f",
   "metadata": {},
   "outputs": [],
   "source": [
    "understanding the variables in python"
   ]
  },
  {
   "cell_type": "code",
   "execution_count": 2,
   "id": "4d3b3c65-980b-4711-a588-173160de20c8",
   "metadata": {},
   "outputs": [],
   "source": [
    "x = 3\n",
    "\n",
    "y = 2"
   ]
  },
  {
   "cell_type": "code",
   "execution_count": 3,
   "id": "24c5727f-e2b7-4e62-842e-58be30fa67f6",
   "metadata": {},
   "outputs": [
    {
     "data": {
      "text/plain": [
       "5"
      ]
     },
     "execution_count": 3,
     "metadata": {},
     "output_type": "execute_result"
    }
   ],
   "source": [
    "x+y"
   ]
  },
  {
   "cell_type": "code",
   "execution_count": null,
   "id": "57abb4d4-8c24-4854-92a0-9ffee3b3673f",
   "metadata": {},
   "outputs": [],
   "source": []
  },
  {
   "cell_type": "code",
   "execution_count": null,
   "id": "b8be1e0d-14da-4032-92fc-b206e596b4cf",
   "metadata": {},
   "outputs": [],
   "source": [
    "Rules for declaring the vaiables in python :"
   ]
  },
  {
   "cell_type": "code",
   "execution_count": null,
   "id": "d25bfb3e-a1e2-4e4c-a09d-bb2d0619c635",
   "metadata": {},
   "outputs": [],
   "source": [
    "1. A variable name should not contain any namespaces."
   ]
  },
  {
   "cell_type": "code",
   "execution_count": 4,
   "id": "2a15d3aa-5a6d-4790-809f-981e69755a92",
   "metadata": {},
   "outputs": [
    {
     "ename": "SyntaxError",
     "evalue": "invalid syntax (Temp/ipykernel_13020/750403271.py, line 1)",
     "output_type": "error",
     "traceback": [
      "\u001b[1;36m  File \u001b[1;32m\"C:\\Users\\Sultana\\AppData\\Local\\Temp/ipykernel_13020/750403271.py\"\u001b[1;36m, line \u001b[1;32m1\u001b[0m\n\u001b[1;33m    first name = 'Farida'\u001b[0m\n\u001b[1;37m          ^\u001b[0m\n\u001b[1;31mSyntaxError\u001b[0m\u001b[1;31m:\u001b[0m invalid syntax\n"
     ]
    }
   ],
   "source": [
    "first name = 'Farida'\n",
    "print(first name)"
   ]
  },
  {
   "cell_type": "code",
   "execution_count": 5,
   "id": "84fb888c-f0d5-4d08-80ce-207dc5b121c0",
   "metadata": {},
   "outputs": [
    {
     "name": "stdout",
     "output_type": "stream",
     "text": [
      "Farida Sultana\n"
     ]
    }
   ],
   "source": [
    "firstname = 'Farida Sultana'\n",
    "print(firstname)"
   ]
  },
  {
   "cell_type": "code",
   "execution_count": 6,
   "id": "ec634e3b-3fe1-4b0f-9223-d05b935d2353",
   "metadata": {},
   "outputs": [
    {
     "ename": "SyntaxError",
     "evalue": "invalid syntax (Temp/ipykernel_13020/643391502.py, line 2)",
     "output_type": "error",
     "traceback": [
      "\u001b[1;36m  File \u001b[1;32m\"C:\\Users\\Sultana\\AppData\\Local\\Temp/ipykernel_13020/643391502.py\"\u001b[1;36m, line \u001b[1;32m2\u001b[0m\n\u001b[1;33m    print(first name)\u001b[0m\n\u001b[1;37m                ^\u001b[0m\n\u001b[1;31mSyntaxError\u001b[0m\u001b[1;31m:\u001b[0m invalid syntax\n"
     ]
    }
   ],
   "source": [
    "firstname = 'Farida Sultana'\n",
    "print(first name)"
   ]
  },
  {
   "cell_type": "code",
   "execution_count": null,
   "id": "b23171cd-7d8a-438c-b8ea-0b2e2c523e44",
   "metadata": {},
   "outputs": [],
   "source": [
    "2. A variable name should not start with number"
   ]
  },
  {
   "cell_type": "code",
   "execution_count": 7,
   "id": "73a92144-27e3-4a45-b327-29e8c1651c79",
   "metadata": {},
   "outputs": [
    {
     "ename": "SyntaxError",
     "evalue": "invalid syntax (Temp/ipykernel_13020/134889411.py, line 1)",
     "output_type": "error",
     "traceback": [
      "\u001b[1;36m  File \u001b[1;32m\"C:\\Users\\Sultana\\AppData\\Local\\Temp/ipykernel_13020/134889411.py\"\u001b[1;36m, line \u001b[1;32m1\u001b[0m\n\u001b[1;33m    1firstname = 'ravi'\u001b[0m\n\u001b[1;37m     ^\u001b[0m\n\u001b[1;31mSyntaxError\u001b[0m\u001b[1;31m:\u001b[0m invalid syntax\n"
     ]
    }
   ],
   "source": [
    "1firstname = 'ravi'\n",
    "print(1firstname)"
   ]
  },
  {
   "cell_type": "code",
   "execution_count": 8,
   "id": "f6ea140d-d0ea-45b0-ab6a-1ec74142d3b1",
   "metadata": {},
   "outputs": [
    {
     "name": "stdout",
     "output_type": "stream",
     "text": [
      "ravi\n"
     ]
    }
   ],
   "source": [
    "firstname1 = 'ravi'\n",
    "print(firstname1)"
   ]
  },
  {
   "cell_type": "code",
   "execution_count": null,
   "id": "03820fb2-6156-4c9d-95d5-c1f133e97633",
   "metadata": {},
   "outputs": [],
   "source": [
    "3. A variable name should not contain any special characters"
   ]
  },
  {
   "cell_type": "code",
   "execution_count": 9,
   "id": "e75b896b-e448-4a47-94f6-0d135ad21588",
   "metadata": {},
   "outputs": [
    {
     "ename": "SyntaxError",
     "evalue": "invalid syntax (Temp/ipykernel_13020/894591629.py, line 1)",
     "output_type": "error",
     "traceback": [
      "\u001b[1;36m  File \u001b[1;32m\"C:\\Users\\Sultana\\AppData\\Local\\Temp/ipykernel_13020/894591629.py\"\u001b[1;36m, line \u001b[1;32m1\u001b[0m\n\u001b[1;33m    name& = 'ravi'\u001b[0m\n\u001b[1;37m          ^\u001b[0m\n\u001b[1;31mSyntaxError\u001b[0m\u001b[1;31m:\u001b[0m invalid syntax\n"
     ]
    }
   ],
   "source": [
    "name& = 'ravi'\n",
    "print(name&)"
   ]
  },
  {
   "cell_type": "code",
   "execution_count": 10,
   "id": "297e5b90-e0f2-4ab9-9eb0-17be11cd1cff",
   "metadata": {},
   "outputs": [
    {
     "ename": "SyntaxError",
     "evalue": "invalid syntax (Temp/ipykernel_13020/2644519400.py, line 1)",
     "output_type": "error",
     "traceback": [
      "\u001b[1;36m  File \u001b[1;32m\"C:\\Users\\Sultana\\AppData\\Local\\Temp/ipykernel_13020/2644519400.py\"\u001b[1;36m, line \u001b[1;32m1\u001b[0m\n\u001b[1;33m    name& = 'ravi'\u001b[0m\n\u001b[1;37m          ^\u001b[0m\n\u001b[1;31mSyntaxError\u001b[0m\u001b[1;31m:\u001b[0m invalid syntax\n"
     ]
    }
   ],
   "source": [
    "name& = 'ravi'\n",
    "print(name)"
   ]
  },
  {
   "cell_type": "code",
   "execution_count": null,
   "id": "1814d8c8-de9a-438d-a2d7-d44057114bbf",
   "metadata": {},
   "outputs": [],
   "source": [
    "Introdcution to datatypes in python\n",
    "\n",
    "   1. string ----> str \n",
    "    2. Numbers ---> integers(int) and float(float(decimals)\n",
    "    3. list ---> list\n",
    "    4. tuple ---> tuple\n",
    "    5. dictionaries ----> dict             \n",
    "    "
   ]
  },
  {
   "cell_type": "code",
   "execution_count": null,
   "id": "4265b652-47f2-4224-bc13-19372e52ee57",
   "metadata": {},
   "outputs": [],
   "source": []
  },
  {
   "cell_type": "code",
   "execution_count": null,
   "id": "85402927-81d3-4ef3-9544-3c6e51865a97",
   "metadata": {},
   "outputs": [],
   "source": [
    "Classification of datatypes :\n",
    "    Data types are broadly classified in to two categories :\n",
    "        1. mutable datatypes ---> which we can edit or alter ---> flexible\n",
    "        2. Immutable datatypes ---> which we cannot edit or alter ---> fixed"
   ]
  },
  {
   "cell_type": "code",
   "execution_count": null,
   "id": "8c20417a-eddb-4742-ad78-09c10cfb5536",
   "metadata": {},
   "outputs": [],
   "source": []
  },
  {
   "cell_type": "code",
   "execution_count": null,
   "id": "e6780f67-f123-4e65-84ac-dad646e26722",
   "metadata": {},
   "outputs": [],
   "source": [
    "Introduction to string datatypes :\n",
    "\n",
    "Definition : A string is series of characters declared in quotes.\n",
    "\n",
    "Classification : It is classified as an immutable datatype (fixed)\n",
    "\n",
    "How to declare the string data type : There are 3 possible option for declaring string\n",
    "\n",
    "1. single quote\n",
    "2. double quote\n",
    "3. triple quote"
   ]
  },
  {
   "cell_type": "code",
   "execution_count": null,
   "id": "288423ee-9886-44d3-a0b5-e903a267d97a",
   "metadata": {},
   "outputs": [],
   "source": []
  },
  {
   "cell_type": "code",
   "execution_count": 11,
   "id": "d93f9ff2-28e1-4ddb-b418-58f6d1202007",
   "metadata": {},
   "outputs": [
    {
     "name": "stdout",
     "output_type": "stream",
     "text": [
      "farida\n"
     ]
    }
   ],
   "source": [
    "name = 'farida'\n",
    "print(name)"
   ]
  },
  {
   "cell_type": "code",
   "execution_count": 20,
   "id": "60098865-d87e-4b2e-a37a-9bd30f2c7b49",
   "metadata": {},
   "outputs": [
    {
     "name": "stdout",
     "output_type": "stream",
     "text": [
      "faridaks\n"
     ]
    }
   ],
   "source": [
    "name1 = \"faridaks\"  #double quote\n",
    "print(name1)"
   ]
  },
  {
   "cell_type": "code",
   "execution_count": 24,
   "id": "c665ab99-0fbe-4346-8f63-002202dd3fdf",
   "metadata": {},
   "outputs": [
    {
     "name": "stdout",
     "output_type": "stream",
     "text": [
      "Asma\n"
     ]
    }
   ],
   "source": [
    "name2 = \"\"\"Asma\"\"\"  # triple quote\n",
    "print(name2)"
   ]
  },
  {
   "cell_type": "code",
   "execution_count": null,
   "id": "6a0827e7-a39b-4e0d-b65d-69e69252774e",
   "metadata": {},
   "outputs": [],
   "source": [
    "# is used for commenting the code"
   ]
  },
  {
   "cell_type": "code",
   "execution_count": null,
   "id": "e003b7bf-63ae-4d4c-8535-a41413dd65e3",
   "metadata": {},
   "outputs": [],
   "source": []
  },
  {
   "cell_type": "code",
   "execution_count": null,
   "id": "4b8ee373-03b5-4cbc-8fe4-d15332ca9087",
   "metadata": {},
   "outputs": [],
   "source": [
    "Introduction to string methods :"
   ]
  },
  {
   "cell_type": "code",
   "execution_count": 21,
   "id": "2b3b5e84-29b8-473e-a458-4d3cdc77ebd3",
   "metadata": {},
   "outputs": [
    {
     "data": {
      "text/plain": [
       "str"
      ]
     },
     "execution_count": 21,
     "metadata": {},
     "output_type": "execute_result"
    }
   ],
   "source": [
    "type(name)"
   ]
  },
  {
   "cell_type": "code",
   "execution_count": 22,
   "id": "f83427bd-763f-4e65-90ee-0f6a79ca9a62",
   "metadata": {},
   "outputs": [
    {
     "data": {
      "text/plain": [
       "str"
      ]
     },
     "execution_count": 22,
     "metadata": {},
     "output_type": "execute_result"
    }
   ],
   "source": [
    "type(name1)"
   ]
  },
  {
   "cell_type": "code",
   "execution_count": 25,
   "id": "2bb3752a-211c-4bfe-b0ff-4b353cb22287",
   "metadata": {},
   "outputs": [
    {
     "data": {
      "text/plain": [
       "str"
      ]
     },
     "execution_count": 25,
     "metadata": {},
     "output_type": "execute_result"
    }
   ],
   "source": [
    "type(name2)"
   ]
  },
  {
   "cell_type": "code",
   "execution_count": null,
   "id": "a46e00dc-8b80-4b9b-b199-9a1199aa5ab1",
   "metadata": {},
   "outputs": [],
   "source": []
  }
 ],
 "metadata": {
  "kernelspec": {
   "display_name": "Python 3 (ipykernel)",
   "language": "python",
   "name": "python3"
  },
  "language_info": {
   "codemirror_mode": {
    "name": "ipython",
    "version": 3
   },
   "file_extension": ".py",
   "mimetype": "text/x-python",
   "name": "python",
   "nbconvert_exporter": "python",
   "pygments_lexer": "ipython3",
   "version": "3.9.7"
  }
 },
 "nbformat": 4,
 "nbformat_minor": 5
}
